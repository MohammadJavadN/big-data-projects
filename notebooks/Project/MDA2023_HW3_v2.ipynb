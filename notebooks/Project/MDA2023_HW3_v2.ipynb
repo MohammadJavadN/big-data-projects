{
 "cells": [
  {
   "cell_type": "markdown",
   "id": "47eeba14-d3a6-41a9-82c3-5b097534a7e6",
   "metadata": {},
   "source": [
    "# Name: Mohammad Javad Noroozi\n",
    "# Student Number: 99102434\n",
    "# Project"
   ]
  },
  {
   "cell_type": "markdown",
   "id": "4b19a1c3",
   "metadata": {},
   "source": [
    "### import the necessary library"
   ]
  },
  {
   "cell_type": "code",
   "execution_count": 1,
   "id": "711db5e5",
   "metadata": {},
   "outputs": [],
   "source": [
    "# !pip install numpy"
   ]
  },
  {
   "cell_type": "code",
   "execution_count": 2,
   "id": "f6cd6efa",
   "metadata": {},
   "outputs": [],
   "source": [
    "import json\n",
    "import datetime\n",
    "# import numpy as np\n",
    "from collections import Counter\n"
   ]
  },
  {
   "cell_type": "code",
   "execution_count": 3,
   "id": "9888692b",
   "metadata": {},
   "outputs": [
    {
     "name": "stdout",
     "output_type": "stream",
     "text": [
      "2024-02-05 16:12:18.528141\n"
     ]
    }
   ],
   "source": [
    "# For measuring the total running time of this notebook\n",
    "start_notebook_t = datetime.datetime.now()\n",
    "print(start_notebook_t)"
   ]
  },
  {
   "cell_type": "code",
   "execution_count": 4,
   "id": "c41badba-b436-496a-b7b6-b2852712dbe6",
   "metadata": {},
   "outputs": [
    {
     "name": "stderr",
     "output_type": "stream",
     "text": [
      "24/02/05 16:12:19 WARN Utils: Your hostname, javad-IdeaPad-Gaming-3-15IAH7 resolves to a loopback address: 127.0.1.1; using 192.168.137.8 instead (on interface enp48s0)\n",
      "24/02/05 16:12:19 WARN Utils: Set SPARK_LOCAL_IP if you need to bind to another address\n",
      "Setting default log level to \"WARN\".\n",
      "To adjust logging level use sc.setLogLevel(newLevel). For SparkR, use setLogLevel(newLevel).\n",
      "24/02/05 16:12:20 WARN NativeCodeLoader: Unable to load native-hadoop library for your platform... using builtin-java classes where applicable\n"
     ]
    }
   ],
   "source": [
    "import findspark\n",
    "findspark.find()\n",
    "findspark.init()\n",
    "\n",
    "import pyspark\n",
    "from pyspark.sql import SparkSession\n",
    "spark = SparkSession \\\n",
    "    .builder \\\n",
    "    .appName(\"HW1\") \\\n",
    "    .master(\"local[*]\") \\\n",
    "    .getOrCreate()\n",
    "\n",
    "sc=spark.sparkContext\n"
   ]
  },
  {
   "cell_type": "markdown",
   "id": "653b5444",
   "metadata": {},
   "source": [
    "### Read data"
   ]
  },
  {
   "cell_type": "code",
   "execution_count": 5,
   "id": "c4eec883-f41e-4c88-b3d6-163ee5b8a741",
   "metadata": {},
   "outputs": [],
   "source": [
    "tweets_rdd = sc.textFile(\"twitter_data_v2.jsonl\")\n"
   ]
  },
  {
   "cell_type": "markdown",
   "id": "337b3c30",
   "metadata": {},
   "source": [
    "### Downsampling (If your RAM memory is low)"
   ]
  },
  {
   "cell_type": "code",
   "execution_count": 6,
   "id": "093bb04f",
   "metadata": {},
   "outputs": [],
   "source": [
    "tweets_rdd = tweets_rdd.sample(False, 0.01, seed=42)\n"
   ]
  },
  {
   "cell_type": "markdown",
   "id": "04e7d755",
   "metadata": {},
   "source": [
    "### Show a sample of twitts"
   ]
  },
  {
   "cell_type": "code",
   "execution_count": 7,
   "id": "e4f18c54-ddcb-4e8d-a070-11c3250579a4",
   "metadata": {},
   "outputs": [],
   "source": [
    "# tweets_rdd.takeSample(False, 1, 19)"
   ]
  },
  {
   "cell_type": "markdown",
   "id": "b9c45732",
   "metadata": {},
   "source": [
    "### Show size of data (No. tweets)"
   ]
  },
  {
   "cell_type": "code",
   "execution_count": 8,
   "id": "52127dd1-6292-410c-a258-133e19a320c9",
   "metadata": {},
   "outputs": [],
   "source": [
    "# tweets_rdd.count()"
   ]
  },
  {
   "cell_type": "markdown",
   "id": "a0401a26",
   "metadata": {},
   "source": [
    "### Extract all user IDs"
   ]
  },
  {
   "cell_type": "code",
   "execution_count": 9,
   "id": "4e8e3096",
   "metadata": {},
   "outputs": [],
   "source": [
    "# users = tweets_rdd.map(lambda x: json.loads(x)[\"user\"].get('id')).collect()"
   ]
  },
  {
   "cell_type": "markdown",
   "id": "1402600a",
   "metadata": {},
   "source": [
    "### Select a User"
   ]
  },
  {
   "cell_type": "code",
   "execution_count": 10,
   "id": "730a4b9b",
   "metadata": {},
   "outputs": [],
   "source": [
    "# '''\n",
    "# you must choose user id in this section.\n",
    "# you can change # in `counts.most_common()[#][0]` for this purpose.\n",
    "# '''\n",
    "# counts = Counter(users)\n",
    "# q_uid = counts.most_common()[50][0]\n",
    "# q_uid = '1365385186364567553'\n",
    "# print('query user id:', q_uid)"
   ]
  },
  {
   "cell_type": "markdown",
   "id": "ec00e3dc",
   "metadata": {},
   "source": [
    "## Extracting the selected user's favorite tweet ids"
   ]
  },
  {
   "cell_type": "markdown",
   "id": "abee7045",
   "metadata": {},
   "source": [
    "### Define Parameters for the Primary Rating."
   ]
  },
  {
   "cell_type": "code",
   "execution_count": 11,
   "id": "e9a28c55-4018-4f4b-9748-a6bc7580c23e",
   "metadata": {},
   "outputs": [],
   "source": [
    "# Define Parameters\n",
    "owner_s = 1\n",
    "\n",
    "# following parameters should not be equal to owner_s\n",
    "rep_to_s = 0.2\n",
    "rep_from_s = 0.9\n",
    "\n",
    "ret_to_s = 0.5\n",
    "ret_from_s = 1.5\n",
    "\n",
    "qut_to_s = 0.6\n",
    "qut_from_s = 1.5\n",
    "\n",
    "# the Value that the Tweet Vdds to the User\n",
    "VTAU = {\n",
    "    'origin': .1,\n",
    "    'quoter': .1,  # user qoute a tweet by this tweet\n",
    "    'quoted_by': 0.99,  # user qouted by this tweet\n",
    "    'retweeter': .1,  # user retweet a tweet by this tweet\n",
    "    'retweeted_by': 0.9,  # user retweeted by this tweet\n",
    "    'replier': .1,  # user reply a tweet by this tweet\n",
    "    'replied_by': 0.89,  # user replied by this tweet\n",
    "}\n",
    "\n",
    "tweet_necessary_info = [\n",
    "    \"tweet_type\",\n",
    "    \"view_count\",\n",
    "    \"twitter_engagement_rate\",\n",
    "    \"retweet_count\",\n",
    "    \"reply_count\",\n",
    "    \"reach\",\n",
    "    \"quote_count\",\n",
    "    \"influence\",\n",
    "    \"impression_rate\",\n",
    "    \"impression\",\n",
    "    \"favorited\",\n",
    "    \"favorite_count\",\n",
    "    \"engagement_rate\",\n",
    "    \"engagement\",\n",
    "]\n",
    "\n",
    "user_necessary_info = [\n",
    "    \"verified\",\n",
    "    \"followers_count\",\n",
    "    \"friends_count\",\n",
    "    \"listed_count\",\n",
    "    \"favourites_count\",\n",
    "    \"statuses_count\",\n",
    "]"
   ]
  },
  {
   "cell_type": "markdown",
   "id": "e151c1db",
   "metadata": {},
   "source": [
    "### Define functions for primary and secondary ratings"
   ]
  },
  {
   "cell_type": "code",
   "execution_count": 12,
   "id": "a58ba664-f604-402e-b083-b3e38224b3dc",
   "metadata": {},
   "outputs": [],
   "source": [
    "def extract_u_t_tuples(x: str) -> list:\n",
    "\n",
    "    tweet_info = json.loads(x)\n",
    "    tweet_statistics = dict(filter(\n",
    "        lambda y: y[0] in tweet_necessary_info,\n",
    "        tweet_info.items()\n",
    "        )\n",
    "    )\n",
    "\n",
    "    t_value = calculate_tweet_value(tweet_statistics)\n",
    "    user_statistics = dict(filter(\n",
    "        lambda y: y[0] in user_necessary_info,\n",
    "        tweet_info['user'].items()\n",
    "        )\n",
    "    )\n",
    "    u1_value = calculate_user_value(user_info=user_statistics)\n",
    "    \n",
    "    tweet_value = interpolate_t_u_v0(t_value, u1_value)\n",
    "    u1 = tweet_info[\"user\"].get('id')\n",
    "\n",
    "    if tweet_info.get('quoted_status', {}).get('user'):\n",
    "        u2 = tweet_info.get('quoted_status', {}).get('user', {}).get('id')\n",
    "        return [\n",
    "            (u1, [VTAU['quoter'] * tweet_value]),\n",
    "            (u2, [VTAU['quoted_by'] * tweet_value]),\n",
    "        ]\n",
    "    elif tweet_info.get('retweeted_status', {}).get('user'):\n",
    "        u2 = tweet_info.get('retweeted_status', {}).get('user', {}).get('id')\n",
    "        return [\n",
    "            (u1, [VTAU['retweeter'] * tweet_value]),\n",
    "            (u2, [VTAU['retweeted_by'] * tweet_value]),\n",
    "        ]\n",
    "    elif tweet_info.get('in_reply_to_user_id_str', None):\n",
    "        u2 = tweet_info.get('in_reply_to_user_id_str')\n",
    "        return [\n",
    "            (u1, [VTAU['replier'] * tweet_value]),\n",
    "            (u2, [VTAU['replied_by'] * tweet_value]),\n",
    "        ]\n",
    "\n",
    "    return [\n",
    "        (u1, [VTAU['origin'] * tweet_value]),\n",
    "    ]\n",
    "\n",
    "\n",
    "def interpolate_t_u_v0(t_value, u_value):\n",
    "    return 0.5*t_value + 0.5*u_value\n",
    "\n",
    "\n",
    "def extract_t_u_tuples(x: str):\n",
    "    '''\n",
    "    input: tweet's json (a string)\n",
    "    output: (t, (tv, uv, {uid})\n",
    "    '''\n",
    "    tweet_info = json.loads(x)\n",
    "\n",
    "\n",
    "    tweet_statistics = dict(filter(\n",
    "        lambda y: y[0] in tweet_necessary_info,\n",
    "        tweet_info.items()\n",
    "        )\n",
    "    )\n",
    "    tid = tweet_info['id']\n",
    "    tweet_value = calculate_tweet_value(tweet_statistics)\n",
    "\n",
    "    user_statistics = dict(filter(\n",
    "        lambda y: y[0] in user_necessary_info,\n",
    "        tweet_info['user'].items()\n",
    "        )\n",
    "    )\n",
    "    u1_value = calculate_user_value(user_info=user_statistics)\n",
    "\n",
    "    u1_id = tweet_info[\"user\"].get('id')\n",
    "\n",
    "\n",
    "    origin_tid = [\n",
    "            tweet_info.get('in_reply_to_status_id_str', None),\n",
    "            tweet_info.get('quoted_status', {}).get('id'),\n",
    "            tweet_info.get('retweeted_status', {}).get('id'),\n",
    "        ]\n",
    "    origin_tid = [i for i in origin_tid if i is not None]\n",
    "\n",
    "    if not origin_tid:\n",
    "        return [(tid, (interpolate_t_u_values(tweet_value, u1_value), {u1_id}))]\n",
    "\n",
    "    return [\n",
    "        (tid, (interpolate_t_u_values(tweet_value, u1_value), {u1_id})),\n",
    "        (origin_tid[0], (None, {u1_id})),\n",
    "    ]\n",
    "\n",
    "\n",
    "def interpolate_t_u_values(t_value, u_value):\n",
    "    return 0.8*t_value + 0.2*u_value\n",
    "\n",
    "\n",
    "def calculate_user_value_based_on_tweets(tweets_type_value: tuple) -> tuple:\n",
    "    '''\n",
    "    tweets_type_value: (u, [t_value, ...])\n",
    "    output: (u, value)\n",
    "    '''\n",
    "    u, tv = tweets_type_value\n",
    "    if len(tv) < 40:\n",
    "        return(u, 0)\n",
    "    u_value = avg(sorted(tv, key=lambda x: -x)[:5])\n",
    "    return (u, u_value)\n",
    "\n",
    "\n",
    "def calculate_user_value(user_info: dict) -> float:\n",
    "    '''\n",
    "    user_info: user information\n",
    "    [\n",
    "        \"verified\",\n",
    "        \"followers_count\",\n",
    "        \"friends_count\",\n",
    "        \"listed_count\",\n",
    "        \"favourites_count\",\n",
    "        \"statuses_count\",\n",
    "    ]\n",
    "\n",
    "    output: a value betweet 0 and 1\n",
    "    '''\n",
    "    values = []\n",
    "    # values.append(int(user_info['verified']))\n",
    "    values.append(min(user_info['statuses_count']/max(user_info['favourites_count'], 1), 1))\n",
    "    values.append(min(user_info['followers_count']/1000, 1))\n",
    "\n",
    "    return 0.15 * avg(values) + 0.85 * int(user_info['verified'])\n",
    "\n",
    "\n",
    "def calculate_tweet_value(tweet_statistics: dict) -> float:\n",
    "    '''\n",
    "    tweet_statistics has following keys:\n",
    "    [\n",
    "        \"tweet_type\",\n",
    "        \"view_count\",\n",
    "        \"twitter_engagement_rate\",\n",
    "        \"retweet_count\",\n",
    "        \"reply_count\",\n",
    "        \"reach\",\n",
    "        \"quote_count\",\n",
    "        \"influence\",\n",
    "        \"impression_rate\",\n",
    "        \"impression\",\n",
    "        \"favorited\",\n",
    "        \"favorite_count\",\n",
    "        \"engagement_rate\",\n",
    "        \"engagement\",\n",
    "    ]\n",
    "    output: a value betweet 0 and 1\n",
    "    '''\n",
    "    values = []\n",
    "    # values.append(int(tweet_statistics['favorited']))\n",
    "    values.append(min(tweet_statistics['engagement_rate'], 1)/100*20)\n",
    "    values.append(min(tweet_statistics['impression_rate'], 1)/100*5)\n",
    "    values.append(min(tweet_statistics['influence'], 1)*10)\n",
    "    values.append(min(tweet_statistics['twitter_engagement_rate'], 1)*20)\n",
    "    vc = max(tweet_statistics['view_count'], 1)\n",
    "    values.append(min(5*tweet_statistics['favorite_count']/vc, 1))\n",
    "    values.append(min(10*tweet_statistics['retweet_count']/vc, 1))\n",
    "    values.append(min(5*tweet_statistics['reply_count']/vc, 1)*5)\n",
    "    values.append(min(10*tweet_statistics['quote_count']/vc, 1)*100)\n",
    "    veiw_coef = min(vc/1000, 1)**3\n",
    "    return avg(sorted(values)[:])*0.5*veiw_coef/70 + int(tweet_statistics['favorited'])*0.5\n",
    "\n",
    "\n",
    "def calculate_tweet_value_based_on_users(t_users_value: tuple) -> tuple:\n",
    "    '''\n",
    "    users_value: (t, (tv, {uid})\n",
    "    UCFD: User Credential Factor Dictionary\n",
    "    {uid: credential}\n",
    "\n",
    "    output: (t, value)\n",
    "    '''\n",
    "    UCFD = calculate_tweet_value_based_on_users.UCFD\n",
    "    t, values = t_users_value\n",
    "    tv, uids = values\n",
    "\n",
    "    u_values = [UCFD[uid] for uid in uids]\n",
    "    \n",
    "    u_value = avg(sorted(u_values, key=lambda x: -x)[:5])\n",
    "    t_value = interpolate_t_u_values2(tv, u_value)\n",
    "    return (t, t_value)\n",
    "\n",
    "\n",
    "def interpolate_t_u_values2(t_value, u_value):\n",
    "    return 0.5 * t_value + 0.5 * u_value\n",
    "\n",
    "\n",
    "def avg(lst): \n",
    "    return sum(lst) / len(lst) "
   ]
  },
  {
   "cell_type": "code",
   "execution_count": 13,
   "id": "6891164e-80c0-4780-86d1-b903ed9fd320",
   "metadata": {},
   "outputs": [
    {
     "name": "stderr",
     "output_type": "stream",
     "text": [
      "                                                                                \r"
     ]
    }
   ],
   "source": [
    "# [(u, [(t_type, t_value)]), ...]\n",
    "user_tid_score_rdd = tweets_rdd.flatMap(extract_u_t_tuples)\n",
    "\n",
    "# [(u, [(t_type, t_value), ...]), ...]\n",
    "user_tids_scores_rdd = user_tid_score_rdd.reduceByKey(\n",
    "    lambda x, y: x if not x.extend(y) else x)\n",
    "\n",
    "\n",
    "user_credential_factor_rdd = user_tids_scores_rdd.map(calculate_user_value_based_on_tweets)\n",
    "\n",
    "\n",
    "user_credential_factor_dict = dict(user_credential_factor_rdd.collect())"
   ]
  },
  {
   "cell_type": "code",
   "execution_count": 14,
   "id": "a9e51bd1",
   "metadata": {},
   "outputs": [],
   "source": [
    "tweets_filtered_rdd = tweets_rdd.filter(lambda x: json.loads(x)['tweet_type'] == 'generated')\n",
    "\n",
    "# [(t, (tv, {uid})] or [(t, (None, None, {uid})]\n",
    "tweet_user_value_rdd = tweets_filtered_rdd.flatMap(extract_t_u_tuples)\n",
    "\n",
    "# [(t, (tv, {uid})]\n",
    "tweet_users_value_rdd = tweet_user_value_rdd.reduceByKey(\n",
    "    lambda x, y: (x[0], (x[1][0], x[1][1].union(y[1][1]))) if x[1][0] else\\\n",
    "    (y[0], (y[1][0], y[1][1].union(x[1][1])))\n",
    ")\n",
    "\n",
    "# [(t, value)]\n",
    "calculate_tweet_value_based_on_users.UCFD = user_credential_factor_dict\n",
    "tweet_value_rdd = tweet_users_value_rdd.map(calculate_tweet_value_based_on_users)"
   ]
  },
  {
   "cell_type": "code",
   "execution_count": 15,
   "id": "765efe51",
   "metadata": {},
   "outputs": [
    {
     "name": "stderr",
     "output_type": "stream",
     "text": [
      "                                                                                \r"
     ]
    }
   ],
   "source": [
    "th = 0.05\n",
    "valid_tweets = tweet_value_rdd.filter(lambda x: x[1] > th)\\\n",
    "                                .take(1000)"
   ]
  },
  {
   "cell_type": "code",
   "execution_count": 16,
   "id": "5a3a5c1c",
   "metadata": {},
   "outputs": [
    {
     "data": {
      "text/plain": [
       "293"
      ]
     },
     "execution_count": 16,
     "metadata": {},
     "output_type": "execute_result"
    }
   ],
   "source": [
    "len(valid_tweets)"
   ]
  },
  {
   "cell_type": "code",
   "execution_count": 17,
   "id": "4b5a247f-cb86-4753-ae79-b6f4feac6fa2",
   "metadata": {},
   "outputs": [
    {
     "name": "stderr",
     "output_type": "stream",
     "text": [
      "                                                                                \r"
     ]
    }
   ],
   "source": [
    "necessary_keys = ['tweet_type', 'user', 'id','text', 'name', 'screen_name', \n",
    "                'in_reply_to_status_id_str', 'in_reply_to_user_id_str',\n",
    "                'quoted_status', 'retweeted_status','profile_image_url',\n",
    "                \"tweet_type\",\n",
    "                \"view_count\",\n",
    "                \"twitter_engagement_rate\",\n",
    "                \"retweet_count\",\n",
    "                \"reply_count\",\n",
    "                \"reach\",\n",
    "                \"quote_count\",\n",
    "                \"influence\",\n",
    "                \"impression_rate\",\n",
    "                \"impression\",\n",
    "                \"favorited\",\n",
    "                \"favorite_count\",\n",
    "                \"engagement_rate\",\n",
    "                \"engagement\",\n",
    "                 ]\n",
    "\n",
    "valid_tweets_id, _ = zip(*valid_tweets) \n",
    "valid_tweets = tweets_rdd.filter(lambda x: json.loads(x)['id'] in valid_tweets_id and not json.loads(x)['user']['verified'])\\\n",
    "                             .map(lambda x: dict(filter(lambda y: y[0] in necessary_keys, json.loads(x).items())))\\\n",
    "                             .collect()\n",
    "valid_tweets2 = valid_tweets.copy()\n"
   ]
  },
  {
   "cell_type": "code",
   "execution_count": 18,
   "id": "04d06830-d45a-4f8a-9afa-e92f9142e323",
   "metadata": {},
   "outputs": [],
   "source": [
    "def show_tweets(tweets, tweets_type):\n",
    "    user_statistics_keys = [\n",
    "        \"name\",\n",
    "        \"verified\",\n",
    "        \"followers_count\",\n",
    "        \"friends_count\",\n",
    "        \"listed_count\",\n",
    "        \"favourites_count\",\n",
    "        \"statuses_count\",\n",
    "    ]\n",
    "\n",
    "    tweet_statistics_keys = [\n",
    "        \"tweet_type\",\n",
    "        \"view_count\",\n",
    "        \"twitter_engagement_rate\",\n",
    "        \"retweet_count\",\n",
    "        \"reply_count\",\n",
    "        \"reach\",\n",
    "        \"quote_count\",\n",
    "        \"influence\",\n",
    "        \"impression_rate\",\n",
    "        \"impression\",\n",
    "        \"favorited\",\n",
    "        \"favorite_count\",\n",
    "        \"engagement_rate\",\n",
    "        \"engagement\",\n",
    "    ]\n",
    "    print('-'*100)\n",
    "    print(f'Number of {tweets_type}:', len(tweets))\n",
    "    ts = [t['text'].replace('\\u200c', '').split('\\n') for t in tweets]\n",
    "    for i, t in enumerate(ts):\n",
    "        print('\\n'*2)\n",
    "        print('_'*100)\n",
    "        user_statistics = dict(filter(\n",
    "            lambda y: y[0] in user_statistics_keys,\n",
    "            tweets[i]['user'].items()\n",
    "            )\n",
    "        )\n",
    "        print(user_statistics)\n",
    "\n",
    "        tweet_statistics = dict(filter(\n",
    "            lambda y: y[0] in tweet_statistics_keys,\n",
    "            tweets[i].items()\n",
    "            )\n",
    "        )\n",
    "        print(tweet_statistics)\n",
    "        print('_'*100)\n",
    "        for line in t:\n",
    "            print(line)\n",
    "    print('-'*100)\n"
   ]
  },
  {
   "cell_type": "markdown",
   "id": "4f30bd61",
   "metadata": {},
   "source": [
    "### Separate tweets based on tweet_type and display them"
   ]
  },
  {
   "cell_type": "code",
   "execution_count": 19,
   "id": "9cfa43eb-b382-4067-a8b7-7271088d273e",
   "metadata": {},
   "outputs": [
    {
     "name": "stdout",
     "output_type": "stream",
     "text": [
      "----------------------------------------------------------------------------------------------------\n",
      "Number of validate_tweets: 12\n",
      "\n",
      "\n",
      "\n",
      "____________________________________________________________________________________________________\n",
      "{'name': '👑Shayan👊♂️', 'verified': False, 'followers_count': 38757, 'friends_count': 4445, 'listed_count': 104, 'favourites_count': 160610, 'statuses_count': 63297}\n",
      "{'retweet_count': 239, 'reply_count': 11, 'quote_count': 2, 'favorite_count': 1264, 'favorited': False, 'view_count': 7155, 'tweet_type': 'generated', 'engagement': 1514, 'impression': 7155, 'influence': 0.0391, 'impression_rate': 0.113, 'engagement_rate': 0.0239, 'twitter_engagement_rate': 21.16}\n",
      "____________________________________________________________________________________________________\n",
      "آمد! به ما یادآوری کرد که کی هستیم و رفت!💔\n",
      "#مجیدرضا_رهنورد https://t.co/Uez7E3D67W\n",
      "\n",
      "\n",
      "\n",
      "____________________________________________________________________________________________________\n",
      "{'name': 'جواتی/ parody account', 'verified': False, 'followers_count': 12507, 'friends_count': 339, 'listed_count': 35, 'favourites_count': 21525, 'statuses_count': 12549}\n",
      "{'retweet_count': 82, 'reply_count': 6, 'quote_count': 1, 'favorite_count': 479, 'favorited': False, 'view_count': 4337, 'tweet_type': 'generated', 'engagement': 567, 'impression': 4337, 'influence': 0.0453, 'impression_rate': 0.3456, 'engagement_rate': 0.0452, 'twitter_engagement_rate': 13.0736}\n",
      "____________________________________________________________________________________________________\n",
      "این نکته که تروریستای غارنشین ضدکردی درمقابل مخالفان راه و روش خودشون رو داشتن درسته، مثلا درجریان درگیریهای ۴ساله کومله و دموکرات، دوطرف سر اسرا رو با حلبی میبریدن و یا با حمله به منازل مسکونی مخالفان و اقوامشان به زنان و دختران تجاوز میکردن.\n",
      "باید از این تروریست وحشی شکایت بشه! https://t.co/6Ki1bhqiS8\n",
      "\n",
      "\n",
      "\n",
      "____________________________________________________________________________________________________\n",
      "{'name': 'پسر ساحل 𓃬☼', 'verified': False, 'followers_count': 4953, 'friends_count': 230, 'listed_count': 9, 'favourites_count': 31235, 'statuses_count': 16997}\n",
      "{'retweet_count': 358, 'reply_count': 10, 'quote_count': 1, 'favorite_count': 1088, 'favorited': False, 'view_count': 7857, 'tweet_type': 'generated', 'engagement': 1456, 'impression': 7857, 'influence': 0.294, 'impression_rate': 0.4623, 'engagement_rate': 0.0857, 'twitter_engagement_rate': 18.5312}\n",
      "____________________________________________________________________________________________________\n",
      "روز بیستم اعتصاب غذا #زهره_سرو\n",
      " انتقال #رضا_محمدحسینی به بیمارستان روانی امینآباد!\n",
      "\n",
      "جان میهنپرستان ایرانزمین در خطر است. https://t.co/XFBPAiKPtO\n",
      "\n",
      "\n",
      "\n",
      "____________________________________________________________________________________________________\n",
      "{'name': '👑👑pahlaviahoraee👑👑⛔️دایرکت بلاک#KingRezaPahlav', 'verified': False, 'followers_count': 15521, 'friends_count': 5330, 'listed_count': 26, 'favourites_count': 182524, 'statuses_count': 222855}\n",
      "{'retweet_count': 50, 'reply_count': 3, 'quote_count': 0, 'favorite_count': 163, 'favorited': False, 'view_count': 823, 'tweet_type': 'generated', 'engagement': 216, 'impression': 823, 'influence': 0.0139, 'impression_rate': 0.0037, 'engagement_rate': 0.001, 'twitter_engagement_rate': 26.2454}\n",
      "____________________________________________________________________________________________________\n",
      "در سرزمین شاهان شاه هرگز نمیمیرد\n",
      "👑🩵✨️\n",
      "\n",
      "اعلیحضرت رضاشاه دوم ، پهلوی سوم\n",
      "ادامه دهنده راه شاه شاهان کوروش بزرگ\n",
      "و پادشاهان ایران ساز پهلوی  \n",
      "#جاویدشاه https://t.co/WnKyoEiXpc\n",
      "\n",
      "\n",
      "\n",
      "____________________________________________________________________________________________________\n",
      "{'name': '👑👑pahlaviahoraee👑👑⛔️دایرکت بلاک#KingRezaPahlav', 'verified': False, 'followers_count': 15348, 'friends_count': 5320, 'listed_count': 26, 'favourites_count': 180709, 'statuses_count': 220794}\n",
      "{'retweet_count': 31, 'reply_count': 3, 'quote_count': 0, 'favorite_count': 80, 'favorited': False, 'view_count': 561, 'tweet_type': 'generated', 'engagement': 114, 'impression': 561, 'influence': 0.0074, 'impression_rate': 0.0025, 'engagement_rate': 0.0005, 'twitter_engagement_rate': 20.3209}\n",
      "____________________________________________________________________________________________________\n",
      "بیاد فرزند ایران مجیدرضارهنورد⁩\n",
      "قهرمان آزادیخواهی که با دست خرد شده سربدار شد تا من و ما، در راهمان و اعتقادمان راسخ و استوار بمانیم.\n",
      "#مجیدرضا_رهنورد\n",
      "⁦#KingRezaPahlavi\n",
      "شیرمرد خراسان فرزند خلف ابومسلم خراسانی برات بحکم خودت گریه نمیکنم ولی دلهایمان خون است 😢 https://t.co/9nvfd6G5Ah\n",
      "\n",
      "\n",
      "\n",
      "____________________________________________________________________________________________________\n",
      "{'name': 'independentpersian', 'verified': False, 'followers_count': 285344, 'friends_count': 21, 'listed_count': 693, 'favourites_count': 613, 'statuses_count': 160549}\n",
      "{'retweet_count': 3, 'reply_count': 1, 'quote_count': 0, 'favorite_count': 34, 'favorited': False, 'view_count': 4521, 'tweet_type': 'generated', 'engagement': 38, 'impression': 4521, 'influence': 0.0001, 'impression_rate': 0.0282, 'engagement_rate': 0.0002, 'twitter_engagement_rate': 0.8405}\n",
      "____________________________________________________________________________________________________\n",
      "دولت محلی ایالت پنچاب پاکستان روز دوشنبه ۲۷ آذر تصاویری از عملیات بارورسازی مصنوعی ابرها بر فراز شهر لاهو را منتشر کرد.\n",
      "به گفته مقامهای محلی این شیوه برای تلطیف هوای این کلانشهر آلوده و برای نخستین بار به کار گرفته شده است.\n",
      "دکتر ناصر کرمی، کارشناس محیط زیست پیشتر در گفتوگو با ایندیپندنت فارسی کاربرد این شیوه را راهی موقت برای مقابله با آلودگی هوای کلانشهرها ازجمله تهران توصیف کرده بود.\n",
      "#ایندیپندنت_فارسی\n",
      "\n",
      "\n",
      "\n",
      "____________________________________________________________________________________________________\n",
      "{'name': '👑👑pahlaviahoraee👑👑⛔️دایرکت بلاک#KingRezaPahlav', 'verified': False, 'followers_count': 15399, 'friends_count': 5317, 'listed_count': 26, 'favourites_count': 181559, 'statuses_count': 221760}\n",
      "{'retweet_count': 9, 'reply_count': 2, 'quote_count': 0, 'favorite_count': 18, 'favorited': False, 'view_count': 201, 'tweet_type': 'generated', 'engagement': 29, 'impression': 201, 'influence': 0.0019, 'impression_rate': 0.0009, 'engagement_rate': 0.0001, 'twitter_engagement_rate': 14.4279}\n",
      "____________________________________________________________________________________________________\n",
      "تنها نگویید #پادشاه_رضا_پهلوی امید ملت است ، با گفتن و شنفتن ، دهان و گوش نمی توان نبرد کرد \n",
      "بایست کنشگر بودجنگیدخشمگین شدفریاد زد\n",
      "\n",
      "اینچنین است که این امید را به باور و باور را به حقیقت خواهیم رساند .\n",
      "\n",
      "#ایران_را_پس_میگیریم و پادشاهی ناب ایرانشهر را بازخواهیم گرداند .\n",
      "\n",
      "#جاویدشاه https://t.co/n3rOBLiig7\n",
      "\n",
      "\n",
      "\n",
      "____________________________________________________________________________________________________\n",
      "{'name': 'Mohammad Ali Taheri Movement', 'verified': False, 'followers_count': 14290, 'friends_count': 87, 'listed_count': 30, 'favourites_count': 123174, 'statuses_count': 35978}\n",
      "{'retweet_count': 164, 'reply_count': 18, 'quote_count': 7, 'favorite_count': 215, 'favorited': False, 'view_count': 1783, 'tweet_type': 'generated', 'engagement': 397, 'impression': 1783, 'influence': 0.0278, 'impression_rate': 0.0496, 'engagement_rate': 0.011, 'twitter_engagement_rate': 22.2658}\n",
      "____________________________________________________________________________________________________\n",
      "#بهمن_معروفی ۲۲ ساله، اهل #اشنویه سال گذشته در جریان اعتراضات سراسری ۱۴۰۱، به شکلی جان خود را از دست داد که برای ملت ایران، رسانه ای شدن چنین ظلمی، عجیب نبود و سناریوهایی از این دست، آخرین ضجه های حکومتی است که برای حفظ قدرت، دیگر از ارتکاب به هیچ جنایتی ابایی ندارد.\n",
      "ماموران اطلاعاتی اشنویه در تاریخ ۲۴ آذر ۱۴۰۱ بهمن را به بهانه چند امضاء احضار کردند و پس از شکنجه و مسموم کردن او، رهایش کردند تا در ساعات ابتدایی بامداد ۲۵ آذر در بیمارستان نبی اکرم اشنویه جان به جان آفرین تسلیم کند.\n",
      "ویدئوی ضجه ها و مویه های پدر بهمن بر سر مزار پسرش، حجم و وسعت ظلمی که بر مردم ایران رفته است را به خوبی بازگو می کند و فراموش نخواهیم کرد که بهمن از شهری به جمع جان باختگان خیزش ایران پیوست که سال گذشته، مردم آن، تن حکومت را بشدت لرزاند؛ شهرِ اشنویه!\n",
      "\n",
      "\"راهت جاویدان پسر مبارز و شجاع و ستمدیده ی ایران زمین\"\n",
      "\n",
      "#مهسا_امینی\n",
      "#آرمیتا_گراوند\n",
      "#زن_زندگى_آزادى\n",
      "\n",
      "\n",
      "\n",
      "____________________________________________________________________________________________________\n",
      "{'name': 'independentpersian', 'verified': False, 'followers_count': 284939, 'friends_count': 21, 'listed_count': 691, 'favourites_count': 613, 'statuses_count': 159841}\n",
      "{'retweet_count': 11, 'reply_count': 0, 'quote_count': 0, 'favorite_count': 41, 'favorited': False, 'view_count': 2091, 'tweet_type': 'generated', 'engagement': 52, 'impression': 2091, 'influence': 0.0002, 'impression_rate': 0.0131, 'engagement_rate': 0.0003, 'twitter_engagement_rate': 2.4868}\n",
      "____________________________________________________________________________________________________\n",
      "«حشمتالله فلاحتپیشه»، استاد دانشگاه علامه طباطبایی و نماینده سابق مردم اسلامآباد غرب، در میزگرد بررسی علمی مسائل روز ایران، عدد فسادهای اقتصادی بزرگ ارزیابیشده در ایران را معادل بیش از ۵۷ میلیارد دلار اعلام کرد و یادآور شد: «این رقم برابر با کل وامی است که کرهجنوبی از صندوق بینالمللی پول گرفت و ضمن نجات اقتصاد ورشکسته خود، در جمع ۱۰ اقتصاد برتر دنیا قرار گرفت.»\n",
      "https://t.co/7PsGCP9is6\n",
      "\n",
      "\n",
      "\n",
      "____________________________________________________________________________________________________\n",
      "{'name': 'Mohammad Ali Taheri Movement', 'verified': False, 'followers_count': 14290, 'friends_count': 87, 'listed_count': 30, 'favourites_count': 123174, 'statuses_count': 35978}\n",
      "{'retweet_count': 185, 'reply_count': 29, 'quote_count': 10, 'favorite_count': 238, 'favorited': False, 'view_count': 2085, 'tweet_type': 'generated', 'engagement': 452, 'impression': 2085, 'influence': 0.0316, 'impression_rate': 0.058, 'engagement_rate': 0.0126, 'twitter_engagement_rate': 21.6787}\n",
      "____________________________________________________________________________________________________\n",
      "#صالح_نيكبخت وکیل خانواده ژینا (مهسا) امینی، به حداكثر مجازات مقرر در ماده ۵۰۰ قانون مجازات اسلامی باب تعزيرات  \"تبليغ عليه نظام\" به يكسال حبس تعزيری و مجازات تكميلی محكوم شد. \n",
      "به گفته علی رضايی، وكيل صالح نيكبخت، جلسه تشكيل يافته در خصوص پرونده موكلش در شعبه ٢٨ دادگاه انقلاب تهران، بدون توجه به دفاعيات ايشان، اقدام به صدور حكم نموده است. \n",
      "مطابق گفته های اين وكيل دادگستری، صالح نيكبخت هيچ تمايلی به تجديدنظر به حكم صادره ندارد، با اين وجود علی رضایی قصد ثبت اعتراض به اميد نقض حكم دادگاه انقلاب دارد. \n",
      "تمام اين تفاسير نشان از بيدادگری و فساد بی حد و حصر سيستم فرمايشی قوه قضاييه دارد كه به هيچ اصل يا قانونی پايبند نيست؛ سيستمی كه هر كه را بخواهد مجرم و هر كه را بخواهد تبرئه می نمايد بدون آنكه به اصول دادرسی عادلانه، قانونی بودن جرم و مجازات، اصل تناظر، آزادی بيان و… اعتنا كند. \n",
      "در خصوص گذر از سيستم منسوخ و لزوم اصلاح برخی ساختارها جهت ريشه كن شدن ظلم و فساد، استاد #محمدعلی_طاهری در نکته یازدهم مانيفست #رنسانس_ايران_آزاد، اینگونه می گویند كه: \" «#انقلاب_رنسانسی» به معنی زیر و رو کردن همه چارچوب های پوسیده گذشته است. بنابراین، چنین اندیشهای نشان میدهد که ساختمان سیاسی کنونی مملکت، کلنگی است و قابلیت هرگونه اصلاحات را برای همیشه از دست داده و همه ارکان مختلف آن پوسیده و درگیر فساد ریشهای شده، بطوریکه غیر قابل اصلاح میباشد.\"\n",
      "\n",
      "#مهسا_امینی\n",
      "#زن_زندگی_آزادی\n",
      "\n",
      "\n",
      "\n",
      "____________________________________________________________________________________________________\n",
      "{'name': 'independentpersian', 'verified': False, 'followers_count': 285001, 'friends_count': 21, 'listed_count': 690, 'favourites_count': 613, 'statuses_count': 159882}\n",
      "{'retweet_count': 0, 'reply_count': 0, 'quote_count': 0, 'favorite_count': 17, 'favorited': False, 'view_count': 1037, 'tweet_type': 'generated', 'engagement': 0, 'impression': 1037, 'influence': 0, 'impression_rate': 0.0065, 'engagement_rate': 0, 'twitter_engagement_rate': 0}\n",
      "____________________________________________________________________________________________________\n",
      "شهروندان لبنان از زمان آغاز جنگ بین اسرائيل و حماس تاکنون همچنان در نگرانی به سر میبرند و نمیدانند که آیا کشورشان به سمت جنگ سوق داده میشود یا خیر؟ این در حالی است که حتی بازیکنان اصلی نیز قادر به پیشبینی رویدادهای احتمالی آینده نیستند.\n",
      "\n",
      "دیدگاهی از ✍️ بدیع یونس\n",
      "\n",
      "#اسرائیل #فلسطین #لبنان \n",
      "\n",
      "https://t.co/wyuoqXuJDO\n",
      "\n",
      "\n",
      "\n",
      "____________________________________________________________________________________________________\n",
      "{'name': 'ordinary man', 'verified': False, 'followers_count': 19666, 'friends_count': 1503, 'listed_count': 48, 'favourites_count': 184611, 'statuses_count': 94347}\n",
      "{'retweet_count': 151, 'reply_count': 12, 'quote_count': 1, 'favorite_count': 877, 'favorited': False, 'view_count': 5625, 'tweet_type': 'generated', 'engagement': 1040, 'impression': 5625, 'influence': 0.0529, 'impression_rate': 0.0596, 'engagement_rate': 0.011, 'twitter_engagement_rate': 18.4889}\n",
      "____________________________________________________________________________________________________\n",
      "ما ایرانیها دو جور آدم داریم\n",
      "آدمهایی که روی زانوهای خودشان ايستاده اند \n",
      "و آدمهایی که با دوپینگِ رانت و رسانه و فاند و جایزه و ... سرپا هستند\n",
      "دسته اول ملت و پرچم و سرزمین خودشان را نمیفروشند\n",
      "دسته دوم همه چیز خودشان را میفروشند https://t.co/XWQxBXyFPP\n",
      "----------------------------------------------------------------------------------------------------\n"
     ]
    }
   ],
   "source": [
    "show_tweets(valid_tweets, 'validate_tweets')"
   ]
  }
 ],
 "metadata": {
  "kernelspec": {
   "display_name": "Python 3 (ipykernel)",
   "language": "python",
   "name": "python3"
  },
  "language_info": {
   "codemirror_mode": {
    "name": "ipython",
    "version": 3
   },
   "file_extension": ".py",
   "mimetype": "text/x-python",
   "name": "python",
   "nbconvert_exporter": "python",
   "pygments_lexer": "ipython3",
   "version": "3.10.12"
  },
  "toc": {
   "base_numbering": 0
  }
 },
 "nbformat": 4,
 "nbformat_minor": 5
}
