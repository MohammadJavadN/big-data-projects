{
 "cells": [
  {
   "cell_type": "markdown",
   "id": "47eeba14-d3a6-41a9-82c3-5b097534a7e6",
   "metadata": {},
   "source": [
    "# Name: Mohammad Javad Noroozi\n",
    "# Student Number: 99102434\n",
    "# Project"
   ]
  },
  {
   "cell_type": "markdown",
   "id": "4b19a1c3",
   "metadata": {},
   "source": [
    "### import the necessary library"
   ]
  },
  {
   "cell_type": "code",
   "execution_count": 1,
   "id": "2206d15f",
   "metadata": {},
   "outputs": [
    {
     "name": "stderr",
     "output_type": "stream",
     "text": [
      "24/02/06 04:06:36 WARN Utils: Your hostname, javad-IdeaPad-Gaming-3-15IAH7 resolves to a loopback address: 127.0.1.1; using 192.168.43.226 instead (on interface wlp0s20f3)\n",
      "24/02/06 04:06:36 WARN Utils: Set SPARK_LOCAL_IP if you need to bind to another address\n",
      "Setting default log level to \"WARN\".\n",
      "To adjust logging level use sc.setLogLevel(newLevel). For SparkR, use setLogLevel(newLevel).\n",
      "24/02/06 04:06:37 WARN NativeCodeLoader: Unable to load native-hadoop library for your platform... using builtin-java classes where applicable\n"
     ]
    },
    {
     "data": {
      "text/html": [
       "\n",
       "            <div>\n",
       "                <p><b>SparkSession - in-memory</b></p>\n",
       "                \n",
       "        <div>\n",
       "            <p><b>SparkContext</b></p>\n",
       "\n",
       "            <p><a href=\"http://localhost:4040\">Spark UI</a></p>\n",
       "\n",
       "            <dl>\n",
       "              <dt>Version</dt>\n",
       "                <dd><code>v3.5.0</code></dd>\n",
       "              <dt>Master</dt>\n",
       "                <dd><code>local[*]</code></dd>\n",
       "              <dt>AppName</dt>\n",
       "                <dd><code>Streaming Process Files</code></dd>\n",
       "            </dl>\n",
       "        </div>\n",
       "        \n",
       "            </div>\n",
       "        "
      ],
      "text/plain": [
       "<pyspark.sql.session.SparkSession at 0x7f425db80d00>"
      ]
     },
     "execution_count": 1,
     "metadata": {},
     "output_type": "execute_result"
    }
   ],
   "source": [
    "import findspark\n",
    "findspark.find()\n",
    "findspark.init()\n",
    "import pyspark\n",
    "from pyspark.sql import SparkSession\n",
    "from pyspark.sql import SparkSession\n",
    "from pyspark.sql.functions import split, explode, col\n",
    "from pyspark.sql.types import StructType, StringType, StructField, ArrayType\n",
    "from pyspark.sql import functions as F\n",
    "\n",
    "import findspark\n",
    "\n",
    "\n",
    "# Create the Spark Session\n",
    "from pyspark.sql import SparkSession\n",
    "\n",
    "spark = SparkSession \\\n",
    "    .builder \\\n",
    "    .appName(\"Streaming Process Files\") \\\n",
    "    .config(\"spark.streaming.stopGracefullyOnShutdown\", True) \\\n",
    "    .master(\"local[*]\") \\\n",
    "    .getOrCreate()\n",
    "\n",
    "spark"
   ]
  },
  {
   "cell_type": "code",
   "execution_count": 2,
   "id": "f496e81d",
   "metadata": {},
   "outputs": [],
   "source": [
    "\n",
    "necessary_keys = [\n",
    "    'keywords',\n",
    "    ]\n"
   ]
  },
  {
   "cell_type": "code",
   "execution_count": null,
   "id": "a2fa0e46",
   "metadata": {},
   "outputs": [
    {
     "name": "stderr",
     "output_type": "stream",
     "text": [
      "24/02/06 04:06:38 WARN SparkSession: Using an existing Spark session; only runtime SQL configurations will take effect.\n",
      "24/02/06 04:06:39 WARN ResolveWriteToStream: Temporary checkpoint location created which is deleted normally when the query didn't fail: /tmp/temporary-aadb0396-a356-47ee-8068-74ae69f90af6. If it's required to delete it under any circumstances, please set spark.sql.streaming.forceDeleteTempCheckpointLocation to true. Important to know deleting temp checkpoint folder is best effort.\n",
      "24/02/06 04:06:39 WARN ResolveWriteToStream: spark.sql.adaptive.enabled is not supported in streaming DataFrames/Datasets and will be disabled.\n"
     ]
    },
    {
     "name": "stderr",
     "output_type": "stream",
     "text": [
      "                                                                                \r"
     ]
    },
    {
     "name": "stdout",
     "output_type": "stream",
     "text": [
      "-------------------------------------------\n",
      "Batch: 0\n",
      "-------------------------------------------\n",
      "+---------+------+\n",
      "|     word| count|\n",
      "+---------+------+\n",
      "|   سازمان|104724|\n",
      "|   اسلامی| 95243|\n",
      "|     رئیس| 89666|\n",
      "|      ملی| 84798|\n",
      "|    ایران| 79907|\n",
      "|      تیم| 73502|\n",
      "|    استان| 65412|\n",
      "|    شورای| 64889|\n",
      "|    وزارت| 49763|\n",
      "|     وزیر| 49218|\n",
      "|     امور| 46731|\n",
      "|   جمهوری| 46482|\n",
      "|     رژیم| 46190|\n",
      "|    تهران| 42547|\n",
      "|    معاون| 38267|\n",
      "|      سال| 37042|\n",
      "|صهیونیستی| 36766|\n",
      "|   فوتبال| 36751|\n",
      "|     مجلس| 36490|\n",
      "|      لیگ| 36262|\n",
      "+---------+------+\n",
      "only showing top 20 rows\n",
      "\n"
     ]
    }
   ],
   "source": [
    "\n",
    "file_path = \"/home/javad/venvspark/notebooks/HW1and2/data\"\n",
    "\n",
    "# Create a Spark session\n",
    "spark = SparkSession.builder.appName(\"NewsWordCount\").getOrCreate()\n",
    "\n",
    "schema = StructType([\n",
    "    StructField(\"keywords\", ArrayType(StringType()), True)\n",
    "])\n",
    "# Read the JSON file as a stream\n",
    "streaming_df = spark.readStream.schema(schema).json(file_path)\n",
    "\n",
    "\n",
    "# Explode the list of tweet texts\n",
    "exploded_df = streaming_df.select(explode(col(\"keywords\")).alias(\"text\"))\n",
    "\n",
    "# Split the tweet text into words\n",
    "words_df = exploded_df.select(explode(split(col(\"text\"), \" \")).alias(\"word\"))\n",
    "\n",
    "stop_words = set(\" گردد نحوه  دوباره‌ای خواهیمكرد توانند می‌توانند می فرماید می‌فرماید وجود دارد باشیم بنابراین برخوردار نمیمونید ساخته‌ام میخواستن خواستن خواستند خواستیم نمیگیرند همچنانكه نمیمونید میخواهند تواند باشند می‌تواند می‌باشند استفاده  جلوگیری نمیكنند رابسیار مینوشند نمیاورم رفته رفته‌ام اینطوری شده‌اند می شوند می کنند می توان می باشد می‌شوند می‌کنند می‌توان می‌باشد کند هدف کلی چنین همچنین  درباره بسیاری اساس براساس خواهند توانند اولین دومین آخرین نهایی نخستین تاكنون برداری بهترین بیشتری داشتند نخواهد دیگران همچنان ندارند روز روزهای یكدیگر همواره گذاشته  نداشته خواهیم نخواهیم درون بیرونِ پایین پاعینِ نزدیكِ دنبالِ دنبال برابر برابرِ مانند مانندِ هنگامِ هنگام عنوانِ عنوان البتّه البته وقتیكه هنگامی میكنند همانند پیششون میباشد میگردد درباره میدهیم بینمان مهمتر مهمتره بیاریم نمیبرد نمیروند نمیروم شناسید بریزید میكنیم علارغم نمیكنن اینجور میگیره میكنند میشوند می شود می کند می‌شود می‌کند می آید می‌آید این ها این جا اینجا اینها این‌ها نخواهد نخواهند خواهند خواهد هستند داشته کردیم نکردیم نکرد نکردند كردند دارند بیشتر بسیار گرفته تواند اینكه مختلف گزاری گذاری بودند دیروز امروز باشند ندارد دیگری اكنون البته مقابل امسال  قرار پارسال مانند جریان ساخته نزدیك دانستند ندانست دانست تمامی ایشان ندادند دادند هنگام نباید نداریم دارند ندارند داریم چگونه خواست هستند هست هستید هستیم سراسر گروهی آورده نماید باشی باشم باشند باشیم گویند شناسی نداشتن داشتن همچون نكرده دانند بالای خارجِ كنارِ کنار حدود حدودِ علت علّتِ كجاست چندین لطفا لطفاً مدتی مدت مدّتی میكنن هممون زدند نزدند زد نزد زدیم نزدیم دارای نشود نشوند بشود بشوند یگردی عمدا عمدتا آورده برای وبرای بتوان نتوان نتوانیم نتوانند ندیدی خوبی بخوبی بدهید نکنیم نكنند بوجود میكنم میکنیم میکنید میكند میكنه دانست دانستن دانستند دونید گرفتن گرفتند گرفتید بگیرد بگیرند بگیرم زدن زدم زدی زدیم زدند بزنیم بزن بزنند بزنید توانستید توانستن توانست تونست نداشتیم نداشتم نداشتند نداشتید نداشتی نداشت ندارم نداریم ندارید نداری نداره کردیم کردند کردن کردم كردید بود بودن بودند نبود نبودید نبودن نبودند بودید واقعا هستند هستیم هست هستید اینجا بهشون ایشان میكنن میکنند میکنیم میکنید میکنم میکند میکرد کرد کردم میکردم میرم میروم اونجا میدهم میداد میدهد كردیم می شد می‌شد میشد  میان حالی درحال درحالی سر سایر خصوص میتواند کل جز میشود کرده  کامل برخی غیر شوند میدهد بی دادند پی پس افزود وجود پیش بین وجود گرفته داشته ضمن خوب دهند رسیده میشوند رسید چون چرا برخی بودن من تو بدون طی ها نه کننده چند حتی گرفت بودند باشند هستند هستید هست هستیم چه بوده دارند مگر فقط کسی همانطور همچنان میکند نمیشود میشد اوست نگه هم آنچنان باشیم باشید یکی روی اینطور باشم باشد ادامه میخوانید میکنم کنید کنیم کنند کند کرد کردم کردن کردند داد هرچه همه هر اما های خواهد داد دیگر نیز می بود هم بر تا شد  خود حال اظهار بیان اشاره خودش خودم خودمان هست داشت کرد شما آنها این آن را با تا برای و در به از که  نسبت ترتیب  باهم نمیآید شماست آنهاست ماست برایمان برایشان برایتان بتوانیم نتوانیم بتوان نتوان اینکه  یا او آن ها آنها آنجا آن جا آن‌ها NULL برای كنند دارد كرده باید مورد آنها دیگر مردم صورت نیست است و از با در باید وی او ما شما آنها من بنده داشت داده بوده همین شوند هایی جدید كردن كنیم نشان توسط چنین برخی گیرد گفته آنان گرفت دهند بدون تمام شدند ترین قابل گوید همان آمده طریق گیری هنوز كنید سازی بلكه بودن وقتی یابد تازه آورد آنچه نخست نشده شاید زیرا ریزی گردد یک كمتر دادن ناشی چیزی آنكه بالا بعضی نبود دیده بندی نوعی آنجا كردم  رفته زیاد خویش نظیر باره جایی زیرِ زیر جلوی پیشِ پیش عقب عقبِ وسطِ وسط نزدِ نزد طبقِ طبق ضد ضدِّ مثلِ مثل بارة اثرِ اثر تول تولِ سمتِ سمت قصد قصدِ چیست چطور كدام بعری هرگز تنها خیاه مرسی كنند خودی وگرد بازم رویم ابدا میگن پراز هشان نریم واسش خاست هایت بشید دچار داره بعدا گرچه میرم باشه شدید نشون رسید دارم بیاد بودم هستن میشه برید بریم وارد یعنی اینا بدان نباش نداد میرن شدیم خودم اونا خیلی نكنه باشم کردن 0000 این است های شود شده خود كرد كند بود گفت نیز اما اند نمی بین پیش اگر همه یکی دهد داد راه سوی روی اول نام هیچ چند بیش شدن حتی ولی دوم بعد شما بار طور چون قبل تحت جای چرا سوم كنم زیر ضمن فقط آید فكر پنج كسی رفت مثل آمد ایم غیر وگو فوق سعی سپس شان هفت سری توی روب جدا هست كجا كَی آیا مگر چیز بله بلی آره آری مان تان كنن ونن مند آخه ماا بشم كنه كنی تون بهم هاش بشی ازش روى بشن بری الی كلی جور اون چیه توش بدم مون  كنن 000 های در به از که کن می را با آن یک ها شد ای تا بر وی هم ما یا سه دو هر او پس بی من چه نه طی كل تر حق اش ام ده شش جز كی یك یک جا كس ور تو را چی گه یه شو رو اه ات  چهار نا 00 ره عج ی و ع ص ۱ ۲ ۳ ۴ ۵ ۶ ۷ ۸ ۹ ۰ a b c d e t o p x y z\".split())\n",
    "\n",
    "filtered_exploded_df = words_df.filter(~F.col(\"word\").isin(list(stop_words)))\n",
    "\n",
    "# Count the occurrences of each word\n",
    "word_counts = filtered_exploded_df.groupBy(\"word\").count()\n",
    "\n",
    "sorted_word_counts = word_counts.orderBy(F.desc(\"count\"))\n",
    "\n",
    "query = sorted_word_counts \\\n",
    "    .writeStream \\\n",
    "    .outputMode(\"complete\") \\\n",
    "    .format(\"console\") \\\n",
    "    .start()\n",
    "\n"
   ]
  }
 ],
 "metadata": {
  "kernelspec": {
   "display_name": "Python 3 (ipykernel)",
   "language": "python",
   "name": "python3"
  },
  "language_info": {
   "codemirror_mode": {
    "name": "ipython",
    "version": 3
   },
   "file_extension": ".py",
   "mimetype": "text/x-python",
   "name": "python",
   "nbconvert_exporter": "python",
   "pygments_lexer": "ipython3",
   "version": "3.10.12"
  },
  "toc": {
   "base_numbering": 0
  }
 },
 "nbformat": 4,
 "nbformat_minor": 5
}
