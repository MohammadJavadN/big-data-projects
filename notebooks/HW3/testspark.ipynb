{
 "cells": [
  {
   "cell_type": "code",
   "execution_count": null,
   "id": "6496ab98-07b4-4424-bae7-675aebf1252c",
   "metadata": {},
   "outputs": [],
   "source": [
    "import findspark\n",
    "findspark.find()\n",
    "findspark.init()\n",
    "\n",
    "import pyspark\n",
    "sc = pyspark.SparkContext(appName=\"imangh1\")\n",
    "\n"
   ]
  },
  {
   "cell_type": "code",
   "execution_count": 1,
   "id": "9bac75c6-9500-4c31-a938-f93a263a8814",
   "metadata": {},
   "outputs": [],
   "source": [
    "from time import sleep"
   ]
  },
  {
   "cell_type": "code",
   "execution_count": 3,
   "id": "4e57d8e2-5798-4689-b75a-d5322efe4a39",
   "metadata": {},
   "outputs": [],
   "source": [
    "sleep(300)\n",
    "print('f')\n",
    "!kill 64873"
   ]
  },
  {
   "cell_type": "code",
   "execution_count": null,
   "id": "428c679d-0c55-4628-80d1-4c2583732b40",
   "metadata": {},
   "outputs": [],
   "source": [
    "sleep(300)\n",
    "print('f')\n",
    "!kill 23605"
   ]
  }
 ],
 "metadata": {
  "kernelspec": {
   "display_name": "Python 3 (ipykernel)",
   "language": "python",
   "name": "python3"
  },
  "language_info": {
   "codemirror_mode": {
    "name": "ipython",
    "version": 3
   },
   "file_extension": ".py",
   "mimetype": "text/x-python",
   "name": "python",
   "nbconvert_exporter": "python",
   "pygments_lexer": "ipython3",
   "version": "3.10.12"
  }
 },
 "nbformat": 4,
 "nbformat_minor": 5
}
